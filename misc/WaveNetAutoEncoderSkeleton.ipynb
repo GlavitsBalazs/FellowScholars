{
 "cells": [
  {
   "cell_type": "code",
   "execution_count": null,
   "metadata": {},
   "outputs": [],
   "source": [
    "initial_filter = 2048\n",
    "depth = 30\n",
    "def model():\n",
    "    def conv1d(_input, filters, kernel_size=4, padding='same', activation='relu', pooling=True):\n",
    "        if pooling:\n",
    "            d = Conv1D(filters, kernel_size=kernel_size, strides=2, padding=padding)(_input)\n",
    "        else:\n",
    "            d = Conv1D(filters, kernel_size=kernel_size, strides=1, padding=padding)(_input)\n",
    "        if activation == 'relu':\n",
    "            d = Activation('relu')(d)\n",
    "        elif activation == 'leaky_relu':\n",
    "            d = LeakyReLU(0.2)(d)\n",
    "        d = BatchNormalization()(d)\n",
    "        ret = d\n",
    "        return ret\n",
    "    def upconv1d(_input, filters, kernel_size=4, strides=2, padding='same', activation='relu'):\n",
    "        u = Conv1DTranspose(filters, kernel_size=kernel_size, strides=strides, padding=padding)(_input)\n",
    "        if activation == 'relu':\n",
    "            u = Activation('relu')(u)\n",
    "        elif activation == 'leaky_relu':\n",
    "            u = LeakyReLU(0.2)(u)\n",
    "        u = BatchNormalization()(u)\n",
    "        ret = u\n",
    "        return ret\n",
    "    \n",
    "    _input = Input(shape=shape)\n",
    "    \n",
    "    net = wavenet_convolutional_layers(filters=64, kernel_size=4, depth=depth)(_input)\n",
    "    \n",
    "    # Downsample\n",
    "    net = conv1d(net, filters=initial_filter/2, activation='leaky_relu')\n",
    "    net = conv1d(net, filters=initial_filter, activation='leaky_relu')\n",
    "    net = conv1d(net, filters=initial_filter*2, activation='leaky_relu')\n",
    "    net = conv1d(net, filters=initial_filter*4, activation='leaky_relu')\n",
    "    # Upsample\n",
    "    net = upconv1d(net, filters=initial_filter*2, activation='relu')\n",
    "    net = upconv1d(net, filters=initial_filter, activation='relu')\n",
    "    net = upconv1d(net, filters=initial_filter/2, activation='relu')\n",
    "    net = Conv1DTranspose(filters=1, kernel_size=4, strides=2, padding='same', activation='tanh')(net)\n",
    "    \n",
    "    net = wavenet_convolutional_layers(filters=64, kernel_size=4, depth=depth)(net)\n",
    "    net = Conv1D(2048, 3, padding='same')(net)\n",
    "    net = Conv1D(256, 3, padding='same')(net)\n",
    "    out = Conv1D(1, 1, padding='same')(net)\n",
    "    model = Model(_input, out)\n",
    "    model.summary()\n",
    "    return model"
   ]
  }
 ],
 "metadata": {
  "kernelspec": {
   "display_name": "Python 3",
   "language": "python",
   "name": "python3"
  },
  "language_info": {
   "codemirror_mode": {
    "name": "ipython",
    "version": 3
   },
   "file_extension": ".py",
   "mimetype": "text/x-python",
   "name": "python",
   "nbconvert_exporter": "python",
   "pygments_lexer": "ipython3",
   "version": "3.6.9"
  },
  "varInspector": {
   "cols": {
    "lenName": 16,
    "lenType": 16,
    "lenVar": 40
   },
   "kernels_config": {
    "python": {
     "delete_cmd_postfix": "",
     "delete_cmd_prefix": "del ",
     "library": "var_list.py",
     "varRefreshCmd": "print(var_dic_list())"
    },
    "r": {
     "delete_cmd_postfix": ") ",
     "delete_cmd_prefix": "rm(",
     "library": "var_list.r",
     "varRefreshCmd": "cat(var_dic_list()) "
    }
   },
   "types_to_exclude": [
    "module",
    "function",
    "builtin_function_or_method",
    "instance",
    "_Feature"
   ],
   "window_display": false
  }
 },
 "nbformat": 4,
 "nbformat_minor": 4
}
